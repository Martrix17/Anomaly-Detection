{
 "cells": [
  {
   "cell_type": "code",
   "execution_count": 1,
   "id": "780376b9",
   "metadata": {},
   "outputs": [
    {
     "name": "stdout",
     "output_type": "stream",
     "text": [
      "Dataset already downloaded\n",
      "Path to dataset files: ./data/mvtec-ad\n"
     ]
    },
    {
     "name": "stderr",
     "output_type": "stream",
     "text": [
      "/usr/local/python/3.13.3/lib/python3.13/site-packages/tqdm/auto.py:21: TqdmWarning: IProgress not found. Please update jupyter and ipywidgets. See https://ipywidgets.readthedocs.io/en/stable/user_install.html\n",
      "  from .autonotebook import tqdm as notebook_tqdm\n"
     ]
    }
   ],
   "source": [
    "import kagglehub\n",
    "import shutil\n",
    "import os\n",
    "\n",
    "destination_path = \"./data/mvtec-ad\" \n",
    "\n",
    "if not os.path.exists(destination_path):\n",
    "    print(\"Creating destination path to dataset\")\n",
    "    os.makedirs(destination_path, exist_ok=True)\n",
    "\n",
    "    path = kagglehub.dataset_download(\"ipythonx/mvtec-ad\")\n",
    "    shutil.move(path, destination_path)\n",
    "else:\n",
    "    print(\"Dataset already downloaded\")\n",
    "\n",
    "print(\"Path to dataset files:\", destination_path)"
   ]
  },
  {
   "cell_type": "code",
   "execution_count": 2,
   "id": "a7ac3001",
   "metadata": {},
   "outputs": [],
   "source": [
    "from types import SimpleNamespace\n",
    "from main import main\n",
    "\n",
    "backbones = [\n",
    "    \"conv\",\n",
    "    \"resnet18\",\n",
    "    \"resnet34\",\n",
    "    \"resnet50\",\n",
    "    \"resnet101\",\n",
    "    \"resnet152\",\n",
    "    \"mobilenet_v2\",\n",
    "    \"mobilenet_v3_large\",\n",
    "    \"mobilenet_v3_small\",\n",
    "    \"efficientnet_b0\",\n",
    "    \"efficientnet_b1\",\n",
    "    \"efficientnet_b2\",\n",
    "    \"efficientnet_b3\"\n",
    "]\n",
    "\n",
    "classnames = [\n",
    "    \"bottle\",\n",
    "    \"cable\",\n",
    "    \"capsule\",\n",
    "    \"carpet\",\n",
    "    \"grid\",\n",
    "    \"hazelnut\",\n",
    "    \"leather\",\n",
    "    \"metal_nut\",\n",
    "    \"pill\",\n",
    "    \"screw\",\n",
    "    \"tile\",\n",
    "    \"toothbrush\",\n",
    "    \"transistor\",\n",
    "    \"wood\",\n",
    "    \"zipper\",\n",
    "]"
   ]
  },
  {
   "cell_type": "code",
   "execution_count": 3,
   "id": "44ac6420",
   "metadata": {},
   "outputs": [],
   "source": [
    "train_args = SimpleNamespace(\n",
    "    mode=\"train\",\n",
    "    root_dir=\"data/mvtec-ad/2\",\n",
    "    class_name = classnames[9],\n",
    "    learning_rate=2e-4,\n",
    "    disc_learning_rate=1e-4,\n",
    "    batch_size=8,\n",
    "    epochs=400,\n",
    "    backbone=backbones[1],\n",
    "    recon_weights=(10.0, 0.2, 0.3, 0.3, 0.1, 0.1),\n",
    "    latent_dim=100,\n",
    "    image_resize=256,\n",
    "    image_size=256,\n",
    "    rand_aug=True,\n",
    ")"
   ]
  },
  {
   "cell_type": "code",
   "execution_count": 4,
   "id": "929ed1e7",
   "metadata": {},
   "outputs": [],
   "source": [
    "#Train model\n",
    "train_args.checkpoint = None\n",
    "# train_args.checkpoint = f\"checkpoints/{train_args.backbone}_{train_args.class_name}.ckpt\"\n",
    "# main(train_args)"
   ]
  },
  {
   "cell_type": "code",
   "execution_count": 5,
   "id": "89a499d4",
   "metadata": {},
   "outputs": [
    {
     "name": "stderr",
     "output_type": "stream",
     "text": [
      "Using 16bit Automatic Mixed Precision (AMP)\n",
      "Using default `ModelCheckpoint`. Consider installing `litmodels` package to enable `LitModelCheckpoint` for automatic upload to the Lightning model registry.\n",
      "GPU available: True (cuda), used: True\n",
      "TPU available: False, using: 0 TPU cores\n",
      "HPU available: False, using: 0 HPUs\n",
      "Restoring states from the checkpoint path at checkpoints/resnet18_screw.ckpt\n"
     ]
    },
    {
     "name": "stdout",
     "output_type": "stream",
     "text": [
      "Testing model from checkpoint: checkpoints/resnet18_screw.ckpt\n",
      "Setup called with stage=TrainerFn.TESTING\n"
     ]
    },
    {
     "name": "stderr",
     "output_type": "stream",
     "text": [
      "/usr/local/python/3.13.3/lib/python3.13/site-packages/lightning/pytorch/trainer/call.py:282: Be aware that when using `ckpt_path`, callbacks used to create the checkpoint need to be provided during `Trainer` instantiation. Please add the following callbacks: [\"ModelCheckpoint{'monitor': 'train_recon_loss', 'mode': 'min', 'every_n_train_steps': 0, 'every_n_epochs': 1, 'train_time_interval': None}\", \"EarlyStopping{'monitor': 'train_recon_loss', 'mode': 'min'}\"].\n",
      "LOCAL_RANK: 0 - CUDA_VISIBLE_DEVICES: [0]\n",
      "Loaded model weights from the checkpoint at checkpoints/resnet18_screw.ckpt\n"
     ]
    },
    {
     "name": "stdout",
     "output_type": "stream",
     "text": [
      "Testing DataLoader 0: 100%|██████████| 20/20 [00:21<00:00,  0.94it/s]\n"
     ]
    },
    {
     "data": {
      "text/html": [
       "<pre style=\"white-space:pre;overflow-x:auto;line-height:normal;font-family:Menlo,'DejaVu Sans Mono',consolas,'Courier New',monospace\">┏━━━━━━━━━━━━━━━━━━━━━━━━━━━┳━━━━━━━━━━━━━━━━━━━━━━━━━━━┓\n",
       "┃<span style=\"font-weight: bold\">        Test metric        </span>┃<span style=\"font-weight: bold\">       DataLoader 0        </span>┃\n",
       "┡━━━━━━━━━━━━━━━━━━━━━━━━━━━╇━━━━━━━━━━━━━━━━━━━━━━━━━━━┩\n",
       "│<span style=\"color: #008080; text-decoration-color: #008080\">     test_pixel_auprc      </span>│<span style=\"color: #800080; text-decoration-color: #800080\">    0.0920831561088562     </span>│\n",
       "│<span style=\"color: #008080; text-decoration-color: #008080\">     test_pixel_auroc      </span>│<span style=\"color: #800080; text-decoration-color: #800080\">     0.873041033744812     </span>│\n",
       "│<span style=\"color: #008080; text-decoration-color: #008080\">       test_pixel_f1       </span>│<span style=\"color: #800080; text-decoration-color: #800080\">   0.0019091255962848663   </span>│\n",
       "│<span style=\"color: #008080; text-decoration-color: #008080\">      test_pixel_iou       </span>│<span style=\"color: #800080; text-decoration-color: #800080\">   0.0009554748539812863   </span>│\n",
       "│<span style=\"color: #008080; text-decoration-color: #008080\">      test_recon_loss      </span>│<span style=\"color: #800080; text-decoration-color: #800080\">    0.5887080430984497     </span>│\n",
       "└───────────────────────────┴───────────────────────────┘\n",
       "</pre>\n"
      ],
      "text/plain": [
       "┏━━━━━━━━━━━━━━━━━━━━━━━━━━━┳━━━━━━━━━━━━━━━━━━━━━━━━━━━┓\n",
       "┃\u001b[1m \u001b[0m\u001b[1m       Test metric       \u001b[0m\u001b[1m \u001b[0m┃\u001b[1m \u001b[0m\u001b[1m      DataLoader 0       \u001b[0m\u001b[1m \u001b[0m┃\n",
       "┡━━━━━━━━━━━━━━━━━━━━━━━━━━━╇━━━━━━━━━━━━━━━━━━━━━━━━━━━┩\n",
       "│\u001b[36m \u001b[0m\u001b[36m    test_pixel_auprc     \u001b[0m\u001b[36m \u001b[0m│\u001b[35m \u001b[0m\u001b[35m   0.0920831561088562    \u001b[0m\u001b[35m \u001b[0m│\n",
       "│\u001b[36m \u001b[0m\u001b[36m    test_pixel_auroc     \u001b[0m\u001b[36m \u001b[0m│\u001b[35m \u001b[0m\u001b[35m    0.873041033744812    \u001b[0m\u001b[35m \u001b[0m│\n",
       "│\u001b[36m \u001b[0m\u001b[36m      test_pixel_f1      \u001b[0m\u001b[36m \u001b[0m│\u001b[35m \u001b[0m\u001b[35m  0.0019091255962848663  \u001b[0m\u001b[35m \u001b[0m│\n",
       "│\u001b[36m \u001b[0m\u001b[36m     test_pixel_iou      \u001b[0m\u001b[36m \u001b[0m│\u001b[35m \u001b[0m\u001b[35m  0.0009554748539812863  \u001b[0m\u001b[35m \u001b[0m│\n",
       "│\u001b[36m \u001b[0m\u001b[36m     test_recon_loss     \u001b[0m\u001b[36m \u001b[0m│\u001b[35m \u001b[0m\u001b[35m   0.5887080430984497    \u001b[0m\u001b[35m \u001b[0m│\n",
       "└───────────────────────────┴───────────────────────────┘\n"
      ]
     },
     "metadata": {},
     "output_type": "display_data"
    }
   ],
   "source": [
    "# Test model\n",
    "test_args = train_args\n",
    "test_args.mode = \"test\"\n",
    "test_args.rand_aug = False\n",
    "test_args.checkpoint = f\"checkpoints/{test_args.backbone}_{test_args.class_name}.ckpt\"\n",
    "main(test_args)"
   ]
  }
 ],
 "metadata": {
  "kernelspec": {
   "display_name": "Python 3",
   "language": "python",
   "name": "python3"
  },
  "language_info": {
   "codemirror_mode": {
    "name": "ipython",
    "version": 3
   },
   "file_extension": ".py",
   "mimetype": "text/x-python",
   "name": "python",
   "nbconvert_exporter": "python",
   "pygments_lexer": "ipython3",
   "version": "3.13.3"
  }
 },
 "nbformat": 4,
 "nbformat_minor": 5
}
